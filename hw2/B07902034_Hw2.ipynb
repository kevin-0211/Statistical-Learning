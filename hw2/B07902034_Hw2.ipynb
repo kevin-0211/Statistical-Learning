{
 "cells": [
  {
   "cell_type": "markdown",
   "metadata": {},
   "source": [
    "### 統計學習與深度學習\n",
    "### Homework 2\n",
    "B07902034 資工三 王昱凱\n",
    "### 第一題 [Data Preprocessing]"
   ]
  },
  {
   "cell_type": "code",
   "execution_count": null,
   "metadata": {},
   "outputs": [],
   "source": [
    "import pickle\n",
    "import numpy as np\n",
    "dsfile = 'adult_m50k.pickle'\n",
    "with open(dsfile, 'rb') as fh1:\n",
    "    adult50kp = pickle.load(fh1)\n",
    "\n",
    "print(adult50kp['x_train'][0])\n",
    "print(adult50kp['columnname'])"
   ]
  },
  {
   "cell_type": "code",
   "execution_count": 2,
   "metadata": {},
   "outputs": [],
   "source": [
    "with open('adult.data') as f:\n",
    "    X_train = np.array([line.strip('\\n').split(', ')[:-1] for line in f])\n",
    "with open('adult.data') as f:\n",
    "    Y_train = np.array([line.strip('\\n').split(', ')[-1] for line in f])\n",
    "X_train = X_train[:-1]\n",
    "Y_train = Y_train[:-1]\n",
    "    \n",
    "i = 0\n",
    "while i < len(X_train):\n",
    "    if '?' in X_train[i]:\n",
    "        X_train = np.delete(X_train, i, 0)\n",
    "        Y_train = np.delete(Y_train, i)\n",
    "        i = i-1\n",
    "    i = i+1\n",
    "\n",
    "Y_train = [1 if y == '>50K' else 0 for y in Y_train]\n",
    "\n",
    "with open('adult.test') as f:\n",
    "    next(f)\n",
    "    X_test = np.array([line.strip('\\n').split(', ')[:-1] for line in f])\n",
    "with open('adult.test') as f:\n",
    "    next(f)\n",
    "    Y_test = np.array([line.strip('\\n').split(', ')[-1] for line in f])\n",
    "X_test = X_test[:-1]\n",
    "Y_test = Y_test[:-1]\n",
    "\n",
    "i = 0\n",
    "while i < len(X_test):\n",
    "    if '?' in X_test[i]:\n",
    "        X_test = np.delete(X_test, i, 0)\n",
    "        Y_test = np.delete(Y_test, i)\n",
    "        i = i-1\n",
    "    i = i+1\n",
    "\n",
    "Y_test = [1 if y == '>50K.' else 0 for y in Y_test]\n"
   ]
  },
  {
   "cell_type": "code",
   "execution_count": 3,
   "metadata": {},
   "outputs": [
    {
     "name": "stdout",
     "output_type": "stream",
     "text": [
      "y_train match!\n"
     ]
    }
   ],
   "source": [
    "elems = ['y_train']\n",
    "\n",
    "for aelem in elems:\n",
    "    cnomatch = np.sum(adult50kp[aelem] != Y_train)\n",
    "    if cnomatch == 0:\n",
    "        print(aelem, \"match!\")\n",
    "    else:\n",
    "        print(aelem, \"%d elements no match!\" % cnomatch)"
   ]
  },
  {
   "cell_type": "markdown",
   "metadata": {},
   "source": [
    "### 第二題 [ROC and AUC]\n",
    "#### Q2.1 基於adult50kp['y_test']與ypredprob繪製ROC Curve"
   ]
  },
  {
   "cell_type": "code",
   "execution_count": 34,
   "metadata": {},
   "outputs": [
    {
     "name": "stdout",
     "output_type": "stream",
     "text": [
      "Accuracy = 0.848340\n"
     ]
    },
    {
     "data": {
      "image/png": "[encoded data removed]",
      "text/plain": [
       "<Figure size 432x288 with 1 Axes>"
      ]
     },
     "metadata": {
      "needs_background": "light"
     },
     "output_type": "display_data"
    }
   ],
   "source": [
    "import pickle\n",
    "from sklearn.linear_model import LogisticRegression\n",
    "import numpy as np\n",
    "import matplotlib.pyplot as plt\n",
    "%matplotlib inline\n",
    "\n",
    "# load dataset\n",
    "dsfile = 'adult_m50k.pickle'\n",
    "with open(dsfile, 'rb') as fh1:\n",
    "    adult50kp = pickle.load(fh1)\n",
    "    \n",
    "#train prediction model    \n",
    "c = 0.3\n",
    "lr2 = LogisticRegression(solver = 'lbfgs', C= c, max_iter = 1000)\n",
    "lr2.fit(adult50kp['x_train'], adult50kp['y_train'])\n",
    "#make prediction\n",
    "ypred = lr2.predict(adult50kp['x_test'])\n",
    "ypredprob = lr2.predict_proba(adult50kp['x_test'])\n",
    "#compute accuracy\n",
    "ncorrect = np.sum(adult50kp['y_test'] == ypred)\n",
    "accuracy_sk = ncorrect / adult50kp['y_test'].shape[0]\n",
    "print(\"Accuracy = %f\" % accuracy_sk) \n",
    "\n",
    "# decide thresholds by sorted ypredprob\n",
    "thresholds = np.sort(ypredprob[:, 1])[::-1]\n",
    "thresholds = np.append(thresholds[0]+1, thresholds)\n",
    "index = []\n",
    "for i in range(len(thresholds)):\n",
    "    if i % 5 != 0:\n",
    "        index.append(i)\n",
    "thresholds = np.delete(thresholds, index)\n",
    "\n",
    "# compute fpr & tpr\n",
    "fpr, tpr = [], []\n",
    "for i in range(len(thresholds)):\n",
    "    tp, fn, fp, tn = 0, 0, 0, 0\n",
    "    for j in range(len(adult50kp['y_test'])):\n",
    "        if adult50kp['y_test'][j] == 1:\n",
    "            if ypredprob[j, 1] >= thresholds[i]:\n",
    "                tp += 1\n",
    "            else:\n",
    "                fn += 1\n",
    "        else:\n",
    "            if ypredprob[j, 1] >= thresholds[i]:\n",
    "                fp += 1\n",
    "            else:\n",
    "                tn += 1\n",
    "    fpr.append(fp/(fp+tn))\n",
    "    tpr.append(tp/(tp+fn))\n",
    "    \n",
    "# plot the roc curve\n",
    "plt.plot(fpr, tpr, color='r')\n",
    "plt.plot([0, 1], [0, 1], color='b')\n",
    "plt.xlabel(\"False Positive Rate\")\n",
    "plt.ylabel(\"True Positive Rate\")\n",
    "plt.title(\"ROC Curve\")\n",
    "plt.show()   "
   ]
  },
  {
   "cell_type": "markdown",
   "metadata": {},
   "source": [
    "#### Q2.2 計算繪製出的ROC Curve的AUC"
   ]
  },
  {
   "cell_type": "code",
   "execution_count": 35,
   "metadata": {},
   "outputs": [
    {
     "name": "stdout",
     "output_type": "stream",
     "text": [
      "AUC =  0.9034924462314518\n"
     ]
    }
   ],
   "source": [
    "# compute auc base on roc curve\n",
    "auc = 0\n",
    "for i in range(len(thresholds)-1):\n",
    "    auc += (tpr[i+1] + tpr[i]) * (fpr[i+1] - fpr[i]) / 2\n",
    "print(\"AUC = \", auc)"
   ]
  },
  {
   "cell_type": "code",
   "execution_count": null,
   "metadata": {},
   "outputs": [],
   "source": []
  }
 ],
 "metadata": {
  "kernelspec": {
   "display_name": "Python 3",
   "language": "python",
   "name": "python3"
  },
  "language_info": {
   "codemirror_mode": {
    "name": "ipython",
    "version": 3
   },
   "file_extension": ".py",
   "mimetype": "text/x-python",
   "name": "python",
   "nbconvert_exporter": "python",
   "pygments_lexer": "ipython3",
   "version": "3.7.3"
  }
 },
 "nbformat": 4,
 "nbformat_minor": 4
}
