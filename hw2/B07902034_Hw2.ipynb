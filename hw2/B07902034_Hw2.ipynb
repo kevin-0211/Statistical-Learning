{
 "cells": [
  {
   "cell_type": "code",
   "execution_count": 123,
   "metadata": {},
   "outputs": [
    {
     "name": "stdout",
     "output_type": "stream",
     "text": [
      "[-0.21858598 -0.07773411  0.14609228  1.12891838  0.04279571 -1.0627216\n",
      "  0.          1.          0.          0.          0.          0.\n",
      "  0.          0.          0.          0.          1.          0.\n",
      "  1.          1.          0.          0.          0.          0.\n",
      "  0.          0.          0.          0.          0.          0.\n",
      "  0.          0.          0.          0.          0.          0.\n",
      "  0.          0.          0.          0.          0.          1.\n",
      "  0.          0.          0.          0.          0.          0.\n",
      "  0.          0.          0.          0.          0.          0.\n",
      "  0.          0.          0.          0.          0.          0.\n",
      "  0.          0.          0.          0.          0.          0.\n",
      "  0.          0.          0.          0.          0.          0.\n",
      "  0.          0.          0.          0.          0.          0.\n",
      "  0.          0.          0.          0.          0.          0.\n",
      "  0.          1.          0.          0.          0.          0.\n",
      "  0.          0.          0.          1.          0.          0.\n",
      "  0.          0.          0.          1.          0.          0.        ]\n",
      "['capital-loss' 'hours-per-week' 'capital-gain' 'educational-num' 'age'\n",
      " 'fnlwgt' 'relationship_Husband' 'relationship_Not-in-family'\n",
      " 'relationship_Other-relative' 'relationship_Own-child'\n",
      " 'relationship_Unmarried' 'relationship_Wife' 'race_Amer-Indian-Eskimo'\n",
      " 'race_Asian-Pac-Islander' 'race_Black' 'race_Other' 'race_White'\n",
      " 'gender_Female' 'gender_Male' 'occupation_Adm-clerical'\n",
      " 'occupation_Craft-repair' 'occupation_Exec-managerial'\n",
      " 'occupation_Farming-fishing' 'occupation_Handlers-cleaners'\n",
      " 'occupation_Machine-op-inspct' 'occupation_Other-service'\n",
      " 'occupation_Priv-house-serv' 'occupation_Prof-specialty'\n",
      " 'occupation_Protective-serv' 'occupation_Sales' 'occupation_Tech-support'\n",
      " 'occupation_Transport-moving' 'education_10th' 'education_11th'\n",
      " 'education_12th' 'education_1st-4th' 'education_5th-6th'\n",
      " 'education_7th-8th' 'education_9th' 'education_Assoc-acdm'\n",
      " 'education_Assoc-voc' 'education_Bachelors' 'education_Doctorate'\n",
      " 'education_HS-grad' 'education_Masters' 'education_Preschool'\n",
      " 'education_Prof-school' 'education_Some-college'\n",
      " 'native-country_Cambodia' 'native-country_Canada' 'native-country_China'\n",
      " 'native-country_Columbia' 'native-country_Cuba'\n",
      " 'native-country_Dominican-Republic' 'native-country_Ecuador'\n",
      " 'native-country_El-Salvador' 'native-country_England'\n",
      " 'native-country_France' 'native-country_Germany' 'native-country_Greece'\n",
      " 'native-country_Guatemala' 'native-country_Haiti'\n",
      " 'native-country_Honduras' 'native-country_Hong' 'native-country_Hungary'\n",
      " 'native-country_India' 'native-country_Iran' 'native-country_Ireland'\n",
      " 'native-country_Italy' 'native-country_Jamaica' 'native-country_Japan'\n",
      " 'native-country_Laos' 'native-country_Mexico' 'native-country_Nicaragua'\n",
      " 'native-country_Outlying-US(Guam-USVI-etc)' 'native-country_Peru'\n",
      " 'native-country_Philippines' 'native-country_Poland'\n",
      " 'native-country_Portugal' 'native-country_Puerto-Rico'\n",
      " 'native-country_Scotland' 'native-country_South' 'native-country_Taiwan'\n",
      " 'native-country_Thailand' 'native-country_Trinadad&Tobago'\n",
      " 'native-country_United-States' 'native-country_Vietnam'\n",
      " 'native-country_Yugoslavia' 'workclass_Federal-gov' 'workclass_Local-gov'\n",
      " 'workclass_Private' 'workclass_Self-emp-inc' 'workclass_Self-emp-not-inc'\n",
      " 'workclass_State-gov' 'workclass_Without-pay' 'marital-status_Divorced'\n",
      " 'marital-status_Married-AF-spouse' 'marital-status_Married-civ-spouse'\n",
      " 'marital-status_Married-spouse-absent' 'marital-status_Never-married'\n",
      " 'marital-status_Separated' 'marital-status_Widowed']\n"
     ]
    }
   ],
   "source": [
    "import pickle\n",
    "import numpy as np\n",
    "dsfile = 'adult_m50k.pickle'\n",
    "with open(dsfile, 'rb') as fh1:\n",
    "    adult50kp = pickle.load(fh1)\n",
    "\n",
    "print(adult50kp['x_train'][0])\n",
    "print(adult50kp['columnname'])"
   ]
  },
  {
   "cell_type": "code",
   "execution_count": 115,
   "metadata": {},
   "outputs": [],
   "source": [
    "with open('adult.data') as f:\n",
    "    X_train = np.array([line.strip('\\n').split(', ')[:-1] for line in f])\n",
    "with open('adult.data') as f:\n",
    "    Y_train = np.array([line.strip('\\n').split(', ')[-1] for line in f])\n",
    "X_train = X_train[:-1]\n",
    "Y_train = Y_train[:-1]\n",
    "    \n",
    "i = 0\n",
    "while i < len(X_train):\n",
    "    if '?' in X_train[i]:\n",
    "        X_train = np.delete(X_train, i, 0)\n",
    "        Y_train = np.delete(Y_train, i)\n",
    "        i = i-1\n",
    "    i = i+1\n",
    "\n",
    "Y_train = [1 if y == '>50K' else 0 for y in Y_train]\n",
    "\n",
    "with open('adult.test') as f:\n",
    "    next(f)\n",
    "    X_test = np.array([line.strip('\\n').split(', ')[:-1] for line in f])\n",
    "with open('adult.test') as f:\n",
    "    next(f)\n",
    "    Y_test = np.array([line.strip('\\n').split(', ')[-1] for line in f])\n",
    "X_test = X_test[:-1]\n",
    "Y_test = Y_test[:-1]\n",
    "\n",
    "i = 0\n",
    "while i < len(X_test):\n",
    "    if '?' in X_test[i]:\n",
    "        X_test = np.delete(X_test, i, 0)\n",
    "        Y_test = np.delete(Y_test, i)\n",
    "        i = i-1\n",
    "    i = i+1\n",
    "\n",
    "Y_test = [1 if y == '>50K.' else 0 for y in Y_test]\n"
   ]
  },
  {
   "cell_type": "code",
   "execution_count": 118,
   "metadata": {},
   "outputs": [
    {
     "name": "stdout",
     "output_type": "stream",
     "text": [
      "x_train 1 elements no match!\n"
     ]
    },
    {
     "name": "stderr",
     "output_type": "stream",
     "text": [
      "/home/kevin/.pyenv/versions/3.6.8/lib/python3.6/site-packages/ipykernel_launcher.py:4: DeprecationWarning: elementwise comparison failed; this will raise an error in the future.\n",
      "  after removing the cwd from sys.path.\n"
     ]
    }
   ],
   "source": [
    "elems = ['x_train']\n",
    "\n",
    "for aelem in elems:\n",
    "    cnomatch = np.sum(adult50kp[aelem] != X_train)\n",
    "    if cnomatch == 0:\n",
    "        print(aelem, \"match!\")\n",
    "    else:\n",
    "        print(aelem, \"%d elements no match!\" % cnomatch)"
   ]
  },
  {
   "cell_type": "code",
   "execution_count": 148,
   "metadata": {},
   "outputs": [
    {
     "name": "stdout",
     "output_type": "stream",
     "text": [
      "Accuracy = 0.848406\n",
      "auc score =  0.9034915183669585\n"
     ]
    },
    {
     "data": {
      "image/png": "[encoded data removed]",
      "text/plain": [
       "<Figure size 432x288 with 1 Axes>"
      ]
     },
     "metadata": {
      "needs_background": "light"
     },
     "output_type": "display_data"
    },
    {
     "name": "stdout",
     "output_type": "stream",
     "text": [
      "[2.         1.         1.         ... 0.00111044 0.00110825 0.00005738]\n",
      "[0.00005738 0.0001168  0.00018092 ... 1.         1.         1.        ]\n",
      "4.768841038632045\n"
     ]
    }
   ],
   "source": [
    "import pickle\n",
    "from sklearn.linear_model import LogisticRegression\n",
    "import numpy as np\n",
    "import matplotlib.pyplot as plt\n",
    "from sklearn.metrics import roc_curve, auc\n",
    "%matplotlib inline\n",
    "\n",
    "# load dataset\n",
    "dsfile = 'adult_m50k.pickle'\n",
    "with open(dsfile, 'rb') as fh1:\n",
    "    adult50kp = pickle.load(fh1)\n",
    "    \n",
    "#train prediction model    \n",
    "c = 0.3\n",
    "lr2 = LogisticRegression(solver = 'lbfgs', C= c, max_iter = 1000)\n",
    "lr2.fit(adult50kp['x_train'], adult50kp['y_train'])\n",
    "#make prediction\n",
    "ypred = lr2.predict(adult50kp['x_test'])\n",
    "ypredprob = lr2.predict_proba(adult50kp['x_test'])\n",
    "#compute accuracy\n",
    "ncorrect = np.sum(adult50kp['y_test'] == ypred)\n",
    "accuracy_sk = ncorrect / adult50kp['y_test'].shape[0]\n",
    "print(\"Accuracy = %f\" % accuracy_sk) \n",
    "fpr, tpr, thresholds = roc_curve(adult50kp['y_test'], ypredprob[:, 1])\n",
    "roc_auc = auc(fpr, tpr)\n",
    "print(\"auc score = \", roc_auc)\n",
    "plt.plot(fpr,tpr)\n",
    "plt.show()\n",
    "np.set_printoptions(suppress=True)\n",
    "print(thresholds)\n",
    "print(np.sort(ypredprob[:,1]))\n",
    "print(len(ypred)/len(thresholds))"
   ]
  },
  {
   "cell_type": "code",
   "execution_count": null,
   "metadata": {},
   "outputs": [],
   "source": []
  }
 ],
 "metadata": {
  "kernelspec": {
   "display_name": "Python 3",
   "language": "python",
   "name": "python3"
  },
  "language_info": {
   "codemirror_mode": {
    "name": "ipython",
    "version": 3
   },
   "file_extension": ".py",
   "mimetype": "text/x-python",
   "name": "python",
   "nbconvert_exporter": "python",
   "pygments_lexer": "ipython3",
   "version": "3.6.8"
  }
 },
 "nbformat": 4,
 "nbformat_minor": 4
}
