{
 "cells": [
  {
   "cell_type": "code",
   "execution_count": 46,
   "metadata": {},
   "outputs": [],
   "source": [
    "%matplotlib inline\n",
    "import matplotlib.pyplot as plt\n",
    "import csv\n",
    "import numpy as np\n",
    "\n",
    "f = open('ds/namesex_data_v2.csv', 'r', encoding='utf8')\n",
    "mydata = csv.DictReader(f)\n",
    "sexlist = []\n",
    "namelist = []\n",
    "foldlist = []\n",
    "for i, arow in enumerate(mydata):\n",
    "    sexlist.append(int(arow['sex'].strip()))\n",
    "    gname = arow['gname'].strip()\n",
    "    namelist.append(gname)\n",
    "    foldlist.append(int(arow['fold'].strip()))\n",
    "\n",
    "sexlist = np.asarray(sexlist)\n",
    "namelist = np.asarray(namelist)\n",
    "foldlist = np.asarray(foldlist)\n",
    "f.close()"
   ]
  },
  {
   "cell_type": "code",
   "execution_count": 47,
   "metadata": {},
   "outputs": [],
   "source": [
    "# split the dataset according to folding number\n",
    "train_idx = (foldlist <= 6)\n",
    "valid_idx = (foldlist == 7)\n",
    "stack_idx = (foldlist == 8)\n",
    "test_idx  = (foldlist == 9)"
   ]
  },
  {
   "cell_type": "code",
   "execution_count": 43,
   "metadata": {},
   "outputs": [],
   "source": [
    "# compute the appearances of each feature\n",
    "name_feature, name_feature_cnt = [], []\n",
    "for i in range(len(namelist[train_idx])):\n",
    "    for j in range(len(namelist[train_idx][i])):\n",
    "        if namelist[train_idx][i][j] not in name_feature:\n",
    "            name_feature.append(namelist[train_idx][i][j])\n",
    "            name_feature_cnt.append(1)\n",
    "        else:\n",
    "            idx = name_feature.index(namelist[train_idx][i][j])\n",
    "            name_feature_cnt[idx] += 1\n",
    "    if len(namelist[train_idx][i]) > 1:\n",
    "        if namelist[train_idx][i] not in name_feature:\n",
    "            name_feature.append(namelist[train_idx][i])\n",
    "            name_feature_cnt.append(1)\n",
    "        else:\n",
    "            idx = name_feature.index(namelist[train_idx][i])\n",
    "            name_feature_cnt[idx] += 1\n",
    "\n",
    "# remove the feature with less than 2 appearances\n",
    "i = 0\n",
    "while i < len(name_feature):\n",
    "    if name_feature_cnt[i] < 2:\n",
    "        del name_feature[i]\n",
    "        del name_feature_cnt[i]\n",
    "        i -= 1\n",
    "    i += 1\n",
    "\n",
    "name_feature.append(\"_Other_Feature_\")"
   ]
  },
  {
   "cell_type": "code",
   "execution_count": 53,
   "metadata": {},
   "outputs": [
    {
     "name": "stdout",
     "output_type": "stream",
     "text": [
      "x_train shape =  (7483, 1630)\n",
      "y_train shape =  (7483,)\n",
      "x_valid shape =  (1110, 1630)\n",
      "y_valid shape =  (1110,)\n",
      "x_stack shape =  (1073, 1630)\n",
      "y_stack shape =  (1073,)\n",
      "x_test shape  =  (1064, 1630)\n",
      "y_test shape  =  (1064,)\n"
     ]
    }
   ],
   "source": [
    "x_train = np.zeros((len(namelist[train_idx]), len(name_feature)))\n",
    "x_valid = np.zeros((len(namelist[valid_idx]), len(name_feature)))\n",
    "x_stack = np.zeros((len(namelist[stack_idx]), len(name_feature)))\n",
    "x_test  = np.zeros((len(namelist[test_idx]), len(name_feature)))\n",
    "\n",
    "y_train = sexlist[train_idx]\n",
    "y_valid = sexlist[valid_idx]\n",
    "y_stack = sexlist[stack_idx]\n",
    "y_test  = sexlist[test_idx]\n",
    "\n",
    "# construct x_train\n",
    "for i in range(len(namelist[train_idx])):\n",
    "    other = 1\n",
    "    for j in range(len(namelist[train_idx][i])):\n",
    "        if namelist[train_idx][i][j] in name_feature:\n",
    "            idx = name_feature.index(namelist[train_idx][i][j])\n",
    "            x_train[i][idx] = 1\n",
    "        else:\n",
    "            other = 0\n",
    "    if len(namelist[train_idx][i]) > 1:\n",
    "        if namelist[train_idx][i] in name_feature:\n",
    "            idx = name_feature.index(namelist[train_idx][i])\n",
    "            x_train[i][idx] = 1\n",
    "        else:\n",
    "            other = 0\n",
    "    if other == 0:\n",
    "        x_train[i][-1] = 1\n",
    "\n",
    "# construct x_valid\n",
    "for i in range(len(namelist[valid_idx])):\n",
    "    other = 1\n",
    "    for j in range(len(namelist[valid_idx][i])):\n",
    "        if namelist[valid_idx][i][j] in name_feature:\n",
    "            idx = name_feature.index(namelist[valid_idx][i][j])\n",
    "            x_valid[i][idx] = 1\n",
    "        else:\n",
    "            other = 0\n",
    "    if len(namelist[valid_idx][i]) > 1:\n",
    "        if namelist[valid_idx][i] in name_feature:\n",
    "            idx = name_feature.index(namelist[valid_idx][i])\n",
    "            x_valid[i][idx] = 1\n",
    "        else:\n",
    "            other = 0\n",
    "    if other == 0:\n",
    "        x_valid[i][-1] = 1\n",
    "\n",
    "# construct x_stack\n",
    "for i in range(len(namelist[stack_idx])):\n",
    "    other = 1\n",
    "    for j in range(len(namelist[stack_idx][i])):\n",
    "        if namelist[stack_idx][i][j] in name_feature:\n",
    "            idx = name_feature.index(namelist[stack_idx][i][j])\n",
    "            x_stack[i][idx] = 1\n",
    "        else:\n",
    "            other = 0\n",
    "    if len(namelist[stack_idx][i]) > 1:\n",
    "        if namelist[stack_idx][i] in name_feature:\n",
    "            idx = name_feature.index(namelist[stack_idx][i])\n",
    "            x_stack[i][idx] = 1\n",
    "        else:\n",
    "            other = 0\n",
    "    if other == 0:\n",
    "        x_stack[i][-1] = 1\n",
    "\n",
    "# construct x_test\n",
    "for i in range(len(namelist[test_idx])):\n",
    "    other = 1\n",
    "    for j in range(len(namelist[test_idx][i])):\n",
    "        if namelist[test_idx][i][j] in name_feature:\n",
    "            idx = name_feature.index(namelist[test_idx][i][j])\n",
    "            x_test[i][idx] = 1\n",
    "        else:\n",
    "            other = 0\n",
    "    if len(namelist[test_idx][i]) > 1:\n",
    "        if namelist[test_idx][i] in name_feature:\n",
    "            idx = name_feature.index(namelist[test_idx][i])\n",
    "            x_test[i][idx] = 1\n",
    "        else:\n",
    "            other = 0\n",
    "    if other == 0:\n",
    "        x_test[i][-1] = 1\n",
    "\n",
    "print(\"x_train shape = \", x_train.shape)\n",
    "print(\"y_train shape = \", y_train.shape)\n",
    "print(\"x_valid shape = \", x_valid.shape)\n",
    "print(\"y_valid shape = \", y_valid.shape)\n",
    "print(\"x_stack shape = \", x_stack.shape)\n",
    "print(\"y_stack shape = \", y_stack.shape)\n",
    "print(\"x_test shape  = \", x_test.shape)\n",
    "print(\"y_test shape  = \", y_test.shape)"
   ]
  },
  {
   "cell_type": "code",
   "execution_count": 73,
   "metadata": {},
   "outputs": [
    {
     "name": "stdout",
     "output_type": "stream",
     "text": [
      "grid = 0.0001, F1 score = 0.7552552552552553\n",
      "grid = 0.00023357214690901222, F1 score = 0.7693486590038313\n",
      "grid = 0.0005455594781168519, F1 score = 0.7926926131850677\n",
      "grid = 0.0012742749857031339, F1 score = 0.8249158249158248\n",
      "grid = 0.0029763514416313182, F1 score = 0.8543516873889875\n",
      "grid = 0.0069519279617756054, F1 score = 0.8638838475499092\n",
      "grid = 0.016237767391887217, F1 score = 0.8723599632690542\n",
      "grid = 0.037926901907322494, F1 score = 0.882899628252788\n",
      "grid = 0.08858667904100825, F1 score = 0.8930581613508444\n",
      "grid = 0.20691380811147894, F1 score = 0.8955785512699905\n",
      "grid = 0.48329302385717526, F1 score = 0.8934967012252593\n",
      "grid = 1.1288378916846888, F1 score = 0.8945386064030133\n",
      "grid = 2.6366508987303576, F1 score = 0.8970727101038716\n",
      "grid = 6.158482110660262, F1 score = 0.8949858088930936\n",
      "grid = 14.384498882876622, F1 score = 0.8987701040681173\n",
      "grid = 33.59818286283781, F1 score = 0.8981132075471698\n",
      "grid = 78.4759970351461, F1 score = 0.8989612842304061\n",
      "grid = 183.2980710832435, F1 score = 0.8962264150943396\n",
      "grid = 428.13323987193917, F1 score = 0.8962264150943396\n",
      "grid = 999.9999999999994, F1 score = 0.8960302457466919\n"
     ]
    }
   ],
   "source": [
    "from sklearn.linear_model import LogisticRegression\n",
    "from sklearn.metrics import f1_score, recall_score, precision_score\n",
    "def accuracy(ypred, y_test):\n",
    "    acc = 1 - np.mean(np.abs(ypred - y_test))\n",
    "    return acc\n",
    "\n",
    "grid = np.zeros(20)\n",
    "for i in range(len(grid)):\n",
    "    if i == 0:\n",
    "        grid[i] = 0.0001\n",
    "    else:\n",
    "        grid[i] = grid[i-1]*pow(10000000, 1/19)\n",
    "\n",
    "for i in range(len(grid)):\n",
    "    lr = LogisticRegression(solver = 'newton-cg', C = grid[i], max_iter = 1000, fit_intercept = False)\n",
    "    lr.fit(x_train, y_train)\n",
    "    ypred = lr.predict(x_valid)\n",
    "    print(\"grid = \"+str(grid[i])+\", F1 score = \"+str(f1_score(y_valid, ypred)))"
   ]
  },
  {
   "cell_type": "code",
   "execution_count": 74,
   "metadata": {},
   "outputs": [
    {
     "name": "stdout",
     "output_type": "stream",
     "text": [
      "grid = 78.4759970351461\n",
      "test Accuracy = 0.8853383458646616\n",
      "test F1-score = 0.8775100401606427\n",
      "test Precision = 0.8585461689587426\n",
      "test Recall = 0.8973305954825462\n"
     ]
    }
   ],
   "source": [
    "bestc = 78.4759970351461\n",
    "x_train_valid = np.concatenate((x_train, x_valid))\n",
    "y_train_valid = np.concatenate((y_train, y_valid))\n",
    "lr = LogisticRegression(solver = 'newton-cg', C = bestc, max_iter = 1000, fit_intercept = False)\n",
    "lr.fit(x_train_valid, y_train_valid)\n",
    "ypred = lr.predict(x_test)\n",
    "print(\"grid = \"+str(bestc))\n",
    "print(\"test Accuracy = \"+str(accuracy(ypred, y_test)))\n",
    "print(\"test F1-score = \"+str(f1_score(y_test, ypred)))\n",
    "print(\"test Precision = \"+str(precision_score(y_test, ypred)))\n",
    "print(\"test Recall = \"+str(recall_score(y_test, ypred)))"
   ]
  },
  {
   "cell_type": "code",
   "execution_count": 85,
   "metadata": {},
   "outputs": [
    {
     "name": "stdout",
     "output_type": "stream",
     "text": [
      "grid = 5, F1 score = 0.8607108549471661\n",
      "grid = 9, F1 score = 0.8455598455598456\n",
      "grid = 16, F1 score = 0.8527430221366699\n",
      "grid = 29, F1 score = 0.870722433460076\n",
      "grid = 53, F1 score = 0.862559241706161\n",
      "grid = 95, F1 score = 0.8590733590733591\n",
      "grid = 171, F1 score = 0.8651252408477842\n",
      "grid = 308, F1 score = 0.8664745437079733\n",
      "grid = 555, F1 score = 0.861003861003861\n",
      "grid = 1000, F1 score = 0.8675623800383878\n"
     ]
    }
   ],
   "source": [
    "from sklearn.ensemble import RandomForestClassifier\n",
    "grid = np.zeros(10)\n",
    "for i in range(len(grid)):\n",
    "    if i == 0:\n",
    "        grid[i] = 5\n",
    "    else:\n",
    "        grid[i] = grid[i-1]*pow(200, 1/9)\n",
    "grid = np.around(grid)\n",
    "for i in range(len(grid)):\n",
    "    clf = RandomForestClassifier(n_estimators=int(grid[i]))\n",
    "    clf.fit(x_train, y_train)\n",
    "    ypred = clf.predict(x_valid)\n",
    "    print(\"grid = \"+str(int(grid[i]))+\", F1 score = \"+str(f1_score(y_valid, ypred)))"
   ]
  },
  {
   "cell_type": "code",
   "execution_count": 88,
   "metadata": {},
   "outputs": [
    {
     "name": "stdout",
     "output_type": "stream",
     "text": [
      "grid = 29\n",
      "test Accuracy = 0.8308270676691729\n",
      "test F1-score = 0.8178137651821861\n",
      "test Precision = 0.8063872255489022\n",
      "test Recall = 0.8295687885010267\n"
     ]
    }
   ],
   "source": [
    "best_nest = 29\n",
    "clf = RandomForestClassifier(n_estimators=best_nest)\n",
    "clf.fit(x_train_valid, y_train_valid)\n",
    "ypred = clf.predict(x_test)\n",
    "print(\"grid = \"+str(best_nest))\n",
    "print(\"test Accuracy = \"+str(accuracy(ypred, y_test)))\n",
    "print(\"test F1-score = \"+str(f1_score(y_test, ypred)))\n",
    "print(\"test Precision = \"+str(precision_score(y_test, ypred)))\n",
    "print(\"test Recall = \"+str(recall_score(y_test, ypred)))"
   ]
  },
  {
   "cell_type": "code",
   "execution_count": null,
   "metadata": {},
   "outputs": [
    {
     "name": "stdout",
     "output_type": "stream",
     "text": [
      "lr = 0.1, grid = 100, F1 score = 0.8082736674622115\n",
      "lr = 0.1, grid = 200, F1 score = 0.8398994132439228\n",
      "lr = 0.1, grid = 300, F1 score = 0.8636763412489006\n",
      "lr = 0.1, grid = 400, F1 score = 0.8762243989314337\n",
      "lr = 0.1, grid = 500, F1 score = 0.8775692582663093\n",
      "lr = 0.1, grid = 600, F1 score = 0.8858695652173914\n",
      "lr = 0.1, grid = 700, F1 score = 0.8915223336371922\n",
      "lr = 0.1, grid = 800, F1 score = 0.9005524861878453\n",
      "lr = 0.1, grid = 900, F1 score = 0.9059040590405903\n",
      "lr = 0.1, grid = 1000, F1 score = 0.8969359331476322\n",
      "lr = 0.1, grid = 1100, F1 score = 0.8977695167286246\n",
      "lr = 0.1, grid = 1200, F1 score = 0.9029850746268657\n"
     ]
    }
   ],
   "source": [
    "from sklearn.ensemble import GradientBoostingClassifier\n",
    "grid = np.zeros(15, dtype=int)\n",
    "for i in range(len(grid)):\n",
    "    if i == 0:\n",
    "        grid[i] = 100\n",
    "    else:\n",
    "        grid[i] = grid[i-1]+100\n",
    "\n",
    "f1 = [[], [], []]\n",
    "lr = [0.1, 0.5, 1]\n",
    "for i in range(len(lr)):\n",
    "    for j in range(len(grid)):\n",
    "        clf = GradientBoostingClassifier(learning_rate=lr[i], n_estimators=grid[j])\n",
    "        clf.fit(x_train, y_train)\n",
    "        ypred = clf.predict(x_valid)\n",
    "        print(\"lr = \"+str(lr[i])+\", grid = \"+str(grid[j])+\", F1 score = \"+str(f1_score(y_valid, ypred)))\n",
    "        f1[i].append(f1_score(y_valid, ypred))"
   ]
  },
  {
   "cell_type": "code",
   "execution_count": null,
   "metadata": {},
   "outputs": [],
   "source": []
  }
 ],
 "metadata": {
  "kernelspec": {
   "display_name": "Python 3",
   "language": "python",
   "name": "python3"
  },
  "language_info": {
   "codemirror_mode": {
    "name": "ipython",
    "version": 3
   },
   "file_extension": ".py",
   "mimetype": "text/x-python",
   "name": "python",
   "nbconvert_exporter": "python",
   "pygments_lexer": "ipython3",
   "version": "3.8.6"
  }
 },
 "nbformat": 4,
 "nbformat_minor": 4
}
