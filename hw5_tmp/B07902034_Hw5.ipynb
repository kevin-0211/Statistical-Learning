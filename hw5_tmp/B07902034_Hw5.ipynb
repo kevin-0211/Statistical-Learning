{
 "cells": [
  {
   "cell_type": "markdown",
   "metadata": {},
   "source": [
    "### 統計學習與深度學習\n",
    "### Homework 5"
   ]
  },
  {
   "cell_type": "code",
   "execution_count": 1,
   "metadata": {},
   "outputs": [],
   "source": [
    "%matplotlib inline\n",
    "\n",
    "import matplotlib.pyplot as plt\n",
    "from PIL import Image\n",
    "import os\n",
    "import glob\n",
    "import torchvision.models as models\n",
    "import numpy as np\n",
    "import cv2\n",
    "import torch\n",
    "import torch.nn as nn\n",
    "import torchvision.transforms as transforms\n",
    "import pandas as pd\n",
    "from torch.utils.data import DataLoader, Dataset\n",
    "import time\n",
    "import math"
   ]
  },
  {
   "cell_type": "code",
   "execution_count": 15,
   "metadata": {},
   "outputs": [
    {
     "name": "stdout",
     "output_type": "stream",
     "text": [
      "train總照片數 =  1041\n"
     ]
    }
   ],
   "source": [
    "labels = ['blazer', 'cardigan', 'coat', 'jacket']\n",
    "cnt, blazer_cnt, cardigan_cnt, coat_cnt, jacket_cnt = 0, 0, 0, 0, 0\n",
    "for i in range(4):\n",
    "    basepath = os.path.join(\"photos/train\", labels[i], \"*.jpg\")\n",
    "    cand_fn = glob.glob(basepath)\n",
    "    cnt += len(cand_fn)\n",
    "    if i == 0:\n",
    "        blazer_cnt += len(cand_fn)\n",
    "    elif i == 1:\n",
    "        cardigan_cnt += len(cand_fn)\n",
    "    elif i == 2:\n",
    "        coat_cnt += len(cand_fn)\n",
    "    elif i == 3:\n",
    "        jacket_cnt += len(cand_fn)\n",
    "print(\"train總照片數 = \", cnt)"
   ]
  },
  {
   "cell_type": "code",
   "execution_count": 16,
   "metadata": {},
   "outputs": [
    {
     "name": "stdout",
     "output_type": "stream",
     "text": [
      "valid總照片數 =  105\n"
     ]
    }
   ],
   "source": [
    "cnt = 0\n",
    "for i in range(4):\n",
    "    basepath = os.path.join(\"photos/valid\", labels[i], \"*.jpg\")\n",
    "    cand_fn = glob.glob(basepath)\n",
    "    cnt += len(cand_fn)\n",
    "    if i == 0:\n",
    "        blazer_cnt += len(cand_fn)\n",
    "    elif i == 1:\n",
    "        cardigan_cnt += len(cand_fn)\n",
    "    elif i == 2:\n",
    "        coat_cnt += len(cand_fn)\n",
    "    elif i == 3:\n",
    "        jacket_cnt += len(cand_fn)\n",
    "print(\"valid總照片數 = \", cnt)"
   ]
  },
  {
   "cell_type": "code",
   "execution_count": 17,
   "metadata": {},
   "outputs": [
    {
     "name": "stdout",
     "output_type": "stream",
     "text": [
      "test總照片數 =  146\n"
     ]
    }
   ],
   "source": [
    "cnt = 0\n",
    "for i in range(4):\n",
    "    basepath = os.path.join(\"photos/test\", labels[i], \"*.jpg\")\n",
    "    cand_fn = glob.glob(basepath)\n",
    "    cnt += len(cand_fn)\n",
    "    if i == 0:\n",
    "        blazer_cnt += len(cand_fn)\n",
    "    elif i == 1:\n",
    "        cardigan_cnt += len(cand_fn)\n",
    "    elif i == 2:\n",
    "        coat_cnt += len(cand_fn)\n",
    "    elif i == 3:\n",
    "        jacket_cnt += len(cand_fn)\n",
    "print(\"test總照片數 = \", cnt)"
   ]
  },
  {
   "cell_type": "code",
   "execution_count": 18,
   "metadata": {},
   "outputs": [
    {
     "name": "stdout",
     "output_type": "stream",
     "text": [
      "blazer照片數 = 113, 比率 = 0.08746130030959752\n",
      "cardigan照片數 = 315, 比率 = 0.24380804953560373\n",
      "coat照片數 = 366, 比率 = 0.28328173374613\n",
      "jacket照片數 = 498, 比率 = 0.38544891640866874\n"
     ]
    }
   ],
   "source": [
    "cnt = blazer_cnt + cardigan_cnt + coat_cnt + jacket_cnt\n",
    "print(\"blazer照片數 = \"+str(blazer_cnt)+\", 比率 = \"+str(blazer_cnt/cnt))\n",
    "print(\"cardigan照片數 = \"+str(cardigan_cnt)+\", 比率 = \"+str(cardigan_cnt/cnt))\n",
    "print(\"coat照片數 = \"+str(coat_cnt)+\", 比率 = \"+str(coat_cnt/cnt))\n",
    "print(\"jacket照片數 = \"+str(jacket_cnt)+\", 比率 = \"+str(jacket_cnt/cnt))"
   ]
  },
  {
   "cell_type": "code",
   "execution_count": 2,
   "metadata": {},
   "outputs": [],
   "source": [
    "def readfile(path):\n",
    "    labels = ['blazer', 'cardigan', 'coat', 'jacket']\n",
    "    for i in range(4):\n",
    "        basepath = os.path.join(path, labels[i], \"*.jpg\")\n",
    "        cand_fn = glob.glob(basepath)\n",
    "\n",
    "        tmp_x = np.zeros((len(cand_fn), 342, 256, 3), dtype=np.uint8)\n",
    "        tmp_y = np.zeros((len(cand_fn)), dtype=np.uint8)\n",
    "        for j in range(len(cand_fn)):\n",
    "            img = cv2.imread(cand_fn[j])\n",
    "            tmp_x[j, :, :] = cv2.resize(img,(256, 342))\n",
    "            tmp_y[j] = i\n",
    "        if i == 0:\n",
    "            x = tmp_x\n",
    "            y = tmp_y\n",
    "        else:\n",
    "            x = np.concatenate((x, tmp_x))\n",
    "            y = np.concatenate((y, tmp_y))\n",
    "    return x, y\n"
   ]
  },
  {
   "cell_type": "code",
   "execution_count": 3,
   "metadata": {},
   "outputs": [],
   "source": [
    "x_train, y_train = readfile(\"photos/train\")\n",
    "x_valid, y_valid = readfile(\"photos/valid\")\n",
    "x_test, y_test = readfile(\"photos/test\")"
   ]
  },
  {
   "cell_type": "code",
   "execution_count": 4,
   "metadata": {},
   "outputs": [],
   "source": [
    "train_transform = transforms.Compose([\n",
    "    transforms.ToPILImage(),\n",
    "    transforms.RandomHorizontalFlip(),\n",
    "    transforms.RandomRotation(20),\n",
    "    transforms.CenterCrop(224),\n",
    "    transforms.ToTensor(),\n",
    "    transforms.Normalize(mean=[0.485, 0.456, 0.406], std=[0.229, 0.224, 0.225]),\n",
    "])\n",
    "\n",
    "test_transform = transforms.Compose([\n",
    "    transforms.ToPILImage(),\n",
    "    transforms.CenterCrop(224),\n",
    "    transforms.ToTensor(),\n",
    "    transforms.Normalize(mean=[0.485, 0.456, 0.406], std=[0.229, 0.224, 0.225]),\n",
    "])\n",
    "\n",
    "class ImgDataset(Dataset):\n",
    "    def __init__(self, x, y=None, transform=None):\n",
    "        self.x = x\n",
    "        self.y = y\n",
    "        if y is not None:\n",
    "            self.y = torch.LongTensor(y)\n",
    "        self.transform = transform\n",
    "    def __len__(self):\n",
    "        return len(self.x)\n",
    "    def __getitem__(self, index):\n",
    "        X = self.x[index]\n",
    "        if self.transform is not None:\n",
    "            X = self.transform(X)\n",
    "        if self.y is not None:\n",
    "            Y = self.y[index]\n",
    "            return X, Y\n",
    "        else:\n",
    "            return X"
   ]
  },
  {
   "cell_type": "code",
   "execution_count": 15,
   "metadata": {},
   "outputs": [],
   "source": [
    "def training(optim, lr, m, device):\n",
    "    model = models.resnet50(pretrained=True).to(device)\n",
    "    model.fc.out_features = 4\n",
    "    loss = nn.CrossEntropyLoss()\n",
    "    if optim == 'SGD':\n",
    "        optimizer = torch.optim.SGD(model.parameters(), lr=lr, momentum=m)\n",
    "    elif optim == 'Adam':\n",
    "        optimizer = torch.optim.Adam(model.parameters(), lr=lr)\n",
    "    num_epoch = 200\n",
    "\n",
    "    best_cnt = 0\n",
    "    best_loss = math.inf\n",
    "\n",
    "    for epoch in range(num_epoch):\n",
    "        epoch_start_time = time.time()\n",
    "        train_loss = 0.0\n",
    "        valid_loss = 0.0\n",
    "        \n",
    "        model.train()\n",
    "        for i, data in enumerate(train_loader):\n",
    "            optimizer.zero_grad()\n",
    "            train_pred = model(data[0].to(device))\n",
    "            batch_loss = loss(train_pred, data[1].to(device))\n",
    "            batch_loss.backward()\n",
    "            optimizer.step()\n",
    "            train_loss += batch_loss.item()\n",
    "        \n",
    "        \n",
    "        with torch.no_grad():\n",
    "            for i, data in enumerate(valid_loader):\n",
    "                valid_pred = model(data[0].to(device))\n",
    "                batch_loss = loss(valid_pred, data[1].to(device))\n",
    "                valid_loss += batch_loss.item()\n",
    "            \n",
    "        if valid_loss < best_loss:\n",
    "            best_loss = valid_loss\n",
    "            best_cnt = 0\n",
    "            torch.save(model.state_dict(), './model/'+optim+'_lr'+str(lr)+'_m'+str(m)+'.pkl')\n",
    "            \n",
    "        if best_cnt >= 20:\n",
    "            break\n",
    "            \n",
    "        best_cnt += 1\n",
    "        \n",
    "    return best_loss\n",
    "       "
   ]
  },
  {
   "cell_type": "code",
   "execution_count": 16,
   "metadata": {},
   "outputs": [],
   "source": [
    "use_cuda = torch.cuda.is_available()\n",
    "if use_cuda:\n",
    "    device = \"cuda\"\n",
    "else:\n",
    "    device = \"cpu\""
   ]
  },
  {
   "cell_type": "code",
   "execution_count": 17,
   "metadata": {},
   "outputs": [],
   "source": [
    "batch_size = 32\n",
    "\n",
    "train_set = ImgDataset(x_train, y_train, train_transform)\n",
    "train_loader = DataLoader(train_set, batch_size=batch_size, shuffle=True)\n",
    "valid_set = ImgDataset(x_valid, y_valid, test_transform)\n",
    "valid_loader = DataLoader(valid_set, batch_size=batch_size, shuffle=True)"
   ]
  },
  {
   "cell_type": "code",
   "execution_count": 18,
   "metadata": {},
   "outputs": [
    {
     "name": "stdout",
     "output_type": "stream",
     "text": [
      "SGD learning_rate = 0.0001, momentum = 0.0, valid loss = 3.794820010662079\n",
      "SGD learning_rate = 0.0001, momentum = 0.5, valid loss = 3.121865600347519\n",
      "SGD learning_rate = 0.0001, momentum = 0.9, valid loss = 2.771882563829422\n",
      "SGD learning_rate = 0.0005, momentum = 0.0, valid loss = 2.6920808255672455\n",
      "SGD learning_rate = 0.0005, momentum = 0.5, valid loss = 2.854362651705742\n",
      "SGD learning_rate = 0.0005, momentum = 0.9, valid loss = 2.8479690849781036\n",
      "SGD learning_rate = 0.001, momentum = 0.0, valid loss = 3.1306369602680206\n",
      "SGD learning_rate = 0.001, momentum = 0.5, valid loss = 2.638573467731476\n",
      "SGD learning_rate = 0.001, momentum = 0.9, valid loss = 2.847838431596756\n",
      "SGD learning_rate = 0.005, momentum = 0.0, valid loss = 2.854484885931015\n",
      "SGD learning_rate = 0.005, momentum = 0.5, valid loss = 3.1163567900657654\n",
      "SGD learning_rate = 0.005, momentum = 0.9, valid loss = 3.708523839712143\n",
      "SGD learning_rate = 0.01, momentum = 0.0, valid loss = 2.658783495426178\n",
      "SGD learning_rate = 0.01, momentum = 0.5, valid loss = 2.371594548225403\n",
      "SGD learning_rate = 0.01, momentum = 0.9, valid loss = 3.495955854654312\n"
     ]
    }
   ],
   "source": [
    "# SGD fine-tuning\n",
    "lr = [0.0001, 0.0005, 0.001, 0.005, 0.01]\n",
    "m = [0.0, 0.5, 0.9]\n",
    "for i in lr:\n",
    "    for j in m:\n",
    "        loss = training('SGD', i, j, device)\n",
    "        print('SGD learning_rate = '+str(i)+', momentum = '+str(j)+', valid loss = '+str(loss))"
   ]
  },
  {
   "cell_type": "code",
   "execution_count": null,
   "metadata": {},
   "outputs": [],
   "source": [
    "# Adam fine-tuning\n",
    "lr = [0.0001, 0.00025, 0.0005, 0.00075, 0.001, 0.0025, 0.005, 0.0075, 0.01]\n",
    "for i in lr:\n",
    "    loss = training('Adam', i, 0.0, device)\n",
    "    print('Adam learning_rate = '+str(i)+', valid loss = '+str(loss))"
   ]
  },
  {
   "cell_type": "code",
   "execution_count": 29,
   "metadata": {},
   "outputs": [
    {
     "name": "stdout",
     "output_type": "stream",
     "text": [
      "0.821917808219178\n"
     ]
    }
   ],
   "source": [
    "test_set = ImgDataset(x_test, y_test, test_transform)\n",
    "test_loader = DataLoader(test_set, batch_size=batch_size, shuffle=False)\n",
    "model = models.resnet50(pretrained=True).to(device)\n",
    "model.fc.out_features = 4\n",
    "model.load_state_dict(torch.load('./model/SGD_lr0.001_m0.5.pkl'))\n",
    "model.eval()\n",
    "test_acc = 0.0\n",
    "with torch.no_grad():\n",
    "    for i, data in enumerate(test_loader):\n",
    "        test_pred = model(data[0].to(device))\n",
    "        test_acc += np.sum(np.argmax(test_pred.cpu().data.numpy(), axis=1) == data[1].numpy())\n",
    "        \n",
    "print(test_acc/test_set.__len__())"
   ]
  },
  {
   "cell_type": "code",
   "execution_count": null,
   "metadata": {},
   "outputs": [],
   "source": []
  }
 ],
 "metadata": {
  "kernelspec": {
   "display_name": "Python 3",
   "language": "python",
   "name": "python3"
  },
  "language_info": {
   "codemirror_mode": {
    "name": "ipython",
    "version": 3
   },
   "file_extension": ".py",
   "mimetype": "text/x-python",
   "name": "python",
   "nbconvert_exporter": "python",
   "pygments_lexer": "ipython3",
   "version": "3.6.8"
  }
 },
 "nbformat": 4,
 "nbformat_minor": 4
}
